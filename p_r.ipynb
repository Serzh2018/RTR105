{
 "cells": [
  {
   "cell_type": "code",
   "execution_count": 1,
   "metadata": {
    "collapsed": false
   },
   "outputs": [
    {
     "name": "stdout",
     "output_type": "stream",
     "text": [
      "a = 10\n",
      "b = 1.5400\n",
      "c = A\n",
      "a = 100500\n",
      "b = 988.790\n",
      "c = A\n"
     ]
    }
   ],
   "source": [
    "#!/usr/bin/python\n",
    "#http://www.cplusplus.com/reference/cstdio/printf/\n",
    "\n",
    "a = 10\n",
    "b = 1.54\n",
    "c = 'A'\n",
    "print(\"a = %d\"%(a))\n",
    "print(\"b = %.4f\"%(b))\n",
    "print(\"c = %s\"%(c))\n",
    "a = 100500\n",
    "b = 988.78965\n",
    "c = 'A'\n",
    "print(\"a = %d\"%(a))\n",
    "print(\"b = %.3f\"%(b))\n",
    "print(\"c = %s\"%(c))"
   ]
  },
  {
   "cell_type": "code",
   "execution_count": 2,
   "metadata": {
    "collapsed": false
   },
   "outputs": [
    {
     "name": "stdout",
     "output_type": "stream",
     "text": [
      "Bigger than 2\n",
      "Still bigger\n",
      "Done with 2\n",
      "0\n",
      "1\n",
      "2\n",
      "3\n",
      "Bigger than 2\n",
      "('Done with i', 3)\n",
      "All Done\n",
      "4\n",
      "Bigger than 2\n",
      "('Done with i', 4)\n",
      "All Done\n"
     ]
    }
   ],
   "source": [
    "x=5\n",
    "if x>2:\n",
    "    print('Bigger than 2')\n",
    "    print('Still bigger')\n",
    "print('Done with 2')\n",
    "for i in range(5):\n",
    "    print(i)\n",
    "    if i >2:\n",
    "        print('Bigger than 2')\n",
    "        print('Done with i',i)\n",
    "        print('All Done')"
   ]
  },
  {
   "cell_type": "code",
   "execution_count": 3,
   "metadata": {
    "collapsed": false
   },
   "outputs": [
    {
     "data": {
      "image/png": "[encoded data removed]"
     },
     "execution_count": 3,
     "metadata": {
     },
     "output_type": "execute_result"
    }
   ],
   "source": [
    "import sys\n",
    "sys.path.append('/usr/local/anaconda3/lib/python3.6/site-packages')\n",
    "from numpy import cos, linspace\n",
    "x = linspace(0,10,1)\n",
    "y = x\n",
    "from matplotlib import pyplot as plt\n",
    "plt.grid()\n",
    "plt.xlabel('x')\n",
    "plt.ylabel('f(x)')\n",
    "plt.title('Funkcija $(x)$')\n",
    "plt.plot(x, y)\n",
    "plt.legend(\"$(x)$\")\n",
    "plt.show()"
   ]
  },
  {
   "cell_type": "code",
   "execution_count": 0,
   "metadata": {
    "collapsed": false
   },
   "outputs": [
   ],
   "source": [
   ]
  }
 ],
 "metadata": {
  "kernelspec": {
   "display_name": "SageMath (stable)",
   "language": "sagemath",
   "name": "sagemath"
  },
  "language_info": {
   "codemirror_mode": {
    "name": "ipython",
    "version": 2
   },
   "file_extension": ".py",
   "mimetype": "text/x-python",
   "name": "python",
   "nbconvert_exporter": "python",
   "pygments_lexer": "ipython2",
   "version": "2.7.15"
  }
 },
 "nbformat": 4,
 "nbformat_minor": 0
}